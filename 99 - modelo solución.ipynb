{
  "cells": [
    {
      "cell_type": "code",
      "execution_count": null,
      "metadata": {
        "colab": {
          "base_uri": "https://localhost:8080/"
        },
        "id": "B6NX_JKa_8r1",
        "outputId": "3b15ff3a-8f69-422d-c2ef-125010bbfe62"
      },
      "outputs": [
        {
          "name": "stdout",
          "output_type": "stream",
          "text": [
            "Downloading udea-ai-4-eng-20251-pruebas-saber-pro-colombia.zip to /content\n",
            "\r  0% 0.00/29.9M [00:00<?, ?B/s]\n",
            "\r100% 29.9M/29.9M [00:00<00:00, 1.09GB/s]\n",
            "Archive:  udea-ai-4-eng-20251-pruebas-saber-pro-colombia.zip\n",
            "  inflating: submission_example.csv  \n",
            "  inflating: test.csv                \n",
            "  inflating: train.csv               \n"
          ]
        }
      ],
      "source": [
        "!mkdir -p /root/.config/kaggle\n",
        "! mv kaggle.json /root/.config/kaggle/kaggle.json\n",
        "!chmod 600 /root/.config/kaggle/kaggle.json\n",
        "!kaggle competitions download -c udea-ai-4-eng-20251-pruebas-saber-pro-colombia\n",
        "!unzip udea-ai-4-eng-20251-pruebas-saber-pro-colombia.zip"
      ]
    },
    {
      "cell_type": "code",
      "execution_count": 1,
      "metadata": {
        "id": "ojHW3YIRBiBC"
      },
      "outputs": [],
      "source": [
        "import pandas as pd\n",
        "import numpy as np"
      ]
    },
    {
      "cell_type": "markdown",
      "metadata": {
        "id": "2Z0L7xyOY8Nv"
      },
      "source": [
        "## Exploración de datos y valores NAN"
      ]
    },
    {
      "cell_type": "markdown",
      "metadata": {
        "id": "ZBKjR2pUZU8U"
      },
      "source": [
        "### cantidad de valores NAN por columna"
      ]
    },
    {
      "cell_type": "code",
      "execution_count": null,
      "metadata": {
        "colab": {
          "base_uri": "https://localhost:8080/",
          "height": 743
        },
        "id": "Dt_8RlaXZBfT",
        "outputId": "5781eda0-0c71-4d0e-b036-f8cbab1ef623"
      },
      "outputs": [
        {
          "data": {
            "text/html": [
              "<div>\n",
              "<style scoped>\n",
              "    .dataframe tbody tr th:only-of-type {\n",
              "        vertical-align: middle;\n",
              "    }\n",
              "\n",
              "    .dataframe tbody tr th {\n",
              "        vertical-align: top;\n",
              "    }\n",
              "\n",
              "    .dataframe thead th {\n",
              "        text-align: right;\n",
              "    }\n",
              "</style>\n",
              "<table border=\"1\" class=\"dataframe\">\n",
              "  <thead>\n",
              "    <tr style=\"text-align: right;\">\n",
              "      <th></th>\n",
              "      <th>0</th>\n",
              "    </tr>\n",
              "  </thead>\n",
              "  <tbody>\n",
              "    <tr>\n",
              "      <th>ID</th>\n",
              "      <td>0</td>\n",
              "    </tr>\n",
              "    <tr>\n",
              "      <th>PERIODO</th>\n",
              "      <td>0</td>\n",
              "    </tr>\n",
              "    <tr>\n",
              "      <th>ESTU_PRGM_ACADEMICO</th>\n",
              "      <td>0</td>\n",
              "    </tr>\n",
              "    <tr>\n",
              "      <th>ESTU_PRGM_DEPARTAMENTO</th>\n",
              "      <td>0</td>\n",
              "    </tr>\n",
              "    <tr>\n",
              "      <th>ESTU_VALORMATRICULAUNIVERSIDAD</th>\n",
              "      <td>6287</td>\n",
              "    </tr>\n",
              "    <tr>\n",
              "      <th>ESTU_HORASSEMANATRABAJA</th>\n",
              "      <td>30857</td>\n",
              "    </tr>\n",
              "    <tr>\n",
              "      <th>FAMI_ESTRATOVIVIENDA</th>\n",
              "      <td>32137</td>\n",
              "    </tr>\n",
              "    <tr>\n",
              "      <th>FAMI_TIENEINTERNET</th>\n",
              "      <td>26629</td>\n",
              "    </tr>\n",
              "    <tr>\n",
              "      <th>FAMI_EDUCACIONPADRE</th>\n",
              "      <td>23178</td>\n",
              "    </tr>\n",
              "    <tr>\n",
              "      <th>FAMI_TIENELAVADORA</th>\n",
              "      <td>39773</td>\n",
              "    </tr>\n",
              "    <tr>\n",
              "      <th>FAMI_TIENEAUTOMOVIL</th>\n",
              "      <td>43623</td>\n",
              "    </tr>\n",
              "    <tr>\n",
              "      <th>ESTU_PRIVADO_LIBERTAD</th>\n",
              "      <td>0</td>\n",
              "    </tr>\n",
              "    <tr>\n",
              "      <th>ESTU_PAGOMATRICULAPROPIO</th>\n",
              "      <td>6498</td>\n",
              "    </tr>\n",
              "    <tr>\n",
              "      <th>FAMI_TIENECOMPUTADOR</th>\n",
              "      <td>38103</td>\n",
              "    </tr>\n",
              "    <tr>\n",
              "      <th>FAMI_TIENEINTERNET.1</th>\n",
              "      <td>26629</td>\n",
              "    </tr>\n",
              "    <tr>\n",
              "      <th>FAMI_EDUCACIONMADRE</th>\n",
              "      <td>23664</td>\n",
              "    </tr>\n",
              "    <tr>\n",
              "      <th>RENDIMIENTO_GLOBAL</th>\n",
              "      <td>0</td>\n",
              "    </tr>\n",
              "    <tr>\n",
              "      <th>coef_1</th>\n",
              "      <td>0</td>\n",
              "    </tr>\n",
              "    <tr>\n",
              "      <th>coef_2</th>\n",
              "      <td>0</td>\n",
              "    </tr>\n",
              "    <tr>\n",
              "      <th>coef_3</th>\n",
              "      <td>0</td>\n",
              "    </tr>\n",
              "    <tr>\n",
              "      <th>coef_4</th>\n",
              "      <td>0</td>\n",
              "    </tr>\n",
              "  </tbody>\n",
              "</table>\n",
              "</div><br><label><b>dtype:</b> int64</label>"
            ],
            "text/plain": [
              "ID                                    0\n",
              "PERIODO                               0\n",
              "ESTU_PRGM_ACADEMICO                   0\n",
              "ESTU_PRGM_DEPARTAMENTO                0\n",
              "ESTU_VALORMATRICULAUNIVERSIDAD     6287\n",
              "ESTU_HORASSEMANATRABAJA           30857\n",
              "FAMI_ESTRATOVIVIENDA              32137\n",
              "FAMI_TIENEINTERNET                26629\n",
              "FAMI_EDUCACIONPADRE               23178\n",
              "FAMI_TIENELAVADORA                39773\n",
              "FAMI_TIENEAUTOMOVIL               43623\n",
              "ESTU_PRIVADO_LIBERTAD                 0\n",
              "ESTU_PAGOMATRICULAPROPIO           6498\n",
              "FAMI_TIENECOMPUTADOR              38103\n",
              "FAMI_TIENEINTERNET.1              26629\n",
              "FAMI_EDUCACIONMADRE               23664\n",
              "RENDIMIENTO_GLOBAL                    0\n",
              "coef_1                                0\n",
              "coef_2                                0\n",
              "coef_3                                0\n",
              "coef_4                                0\n",
              "dtype: int64"
            ]
          },
          "execution_count": 3,
          "metadata": {},
          "output_type": "execute_result"
        }
      ],
      "source": [
        "pd.read_csv('train.csv').isna().sum()"
      ]
    },
    {
      "cell_type": "markdown",
      "metadata": {
        "id": "K80N1ubGZlky"
      },
      "source": [
        "### Valores únicos por columna"
      ]
    },
    {
      "cell_type": "code",
      "execution_count": null,
      "metadata": {
        "colab": {
          "base_uri": "https://localhost:8080/",
          "height": 743
        },
        "id": "ZyzNdfPgZspc",
        "outputId": "35422706-522b-4fce-c875-c1a907b411dd"
      },
      "outputs": [
        {
          "data": {
            "text/html": [
              "<div>\n",
              "<style scoped>\n",
              "    .dataframe tbody tr th:only-of-type {\n",
              "        vertical-align: middle;\n",
              "    }\n",
              "\n",
              "    .dataframe tbody tr th {\n",
              "        vertical-align: top;\n",
              "    }\n",
              "\n",
              "    .dataframe thead th {\n",
              "        text-align: right;\n",
              "    }\n",
              "</style>\n",
              "<table border=\"1\" class=\"dataframe\">\n",
              "  <thead>\n",
              "    <tr style=\"text-align: right;\">\n",
              "      <th></th>\n",
              "      <th>0</th>\n",
              "    </tr>\n",
              "  </thead>\n",
              "  <tbody>\n",
              "    <tr>\n",
              "      <th>ID</th>\n",
              "      <td>692500</td>\n",
              "    </tr>\n",
              "    <tr>\n",
              "      <th>PERIODO</th>\n",
              "      <td>9</td>\n",
              "    </tr>\n",
              "    <tr>\n",
              "      <th>ESTU_PRGM_ACADEMICO</th>\n",
              "      <td>948</td>\n",
              "    </tr>\n",
              "    <tr>\n",
              "      <th>ESTU_PRGM_DEPARTAMENTO</th>\n",
              "      <td>31</td>\n",
              "    </tr>\n",
              "    <tr>\n",
              "      <th>ESTU_VALORMATRICULAUNIVERSIDAD</th>\n",
              "      <td>8</td>\n",
              "    </tr>\n",
              "    <tr>\n",
              "      <th>ESTU_HORASSEMANATRABAJA</th>\n",
              "      <td>5</td>\n",
              "    </tr>\n",
              "    <tr>\n",
              "      <th>FAMI_ESTRATOVIVIENDA</th>\n",
              "      <td>7</td>\n",
              "    </tr>\n",
              "    <tr>\n",
              "      <th>FAMI_TIENEINTERNET</th>\n",
              "      <td>2</td>\n",
              "    </tr>\n",
              "    <tr>\n",
              "      <th>FAMI_EDUCACIONPADRE</th>\n",
              "      <td>12</td>\n",
              "    </tr>\n",
              "    <tr>\n",
              "      <th>FAMI_TIENELAVADORA</th>\n",
              "      <td>2</td>\n",
              "    </tr>\n",
              "    <tr>\n",
              "      <th>FAMI_TIENEAUTOMOVIL</th>\n",
              "      <td>2</td>\n",
              "    </tr>\n",
              "    <tr>\n",
              "      <th>ESTU_PRIVADO_LIBERTAD</th>\n",
              "      <td>2</td>\n",
              "    </tr>\n",
              "    <tr>\n",
              "      <th>ESTU_PAGOMATRICULAPROPIO</th>\n",
              "      <td>2</td>\n",
              "    </tr>\n",
              "    <tr>\n",
              "      <th>FAMI_TIENECOMPUTADOR</th>\n",
              "      <td>2</td>\n",
              "    </tr>\n",
              "    <tr>\n",
              "      <th>FAMI_TIENEINTERNET.1</th>\n",
              "      <td>2</td>\n",
              "    </tr>\n",
              "    <tr>\n",
              "      <th>FAMI_EDUCACIONMADRE</th>\n",
              "      <td>12</td>\n",
              "    </tr>\n",
              "    <tr>\n",
              "      <th>RENDIMIENTO_GLOBAL</th>\n",
              "      <td>4</td>\n",
              "    </tr>\n",
              "    <tr>\n",
              "      <th>coef_1</th>\n",
              "      <td>375</td>\n",
              "    </tr>\n",
              "    <tr>\n",
              "      <th>coef_2</th>\n",
              "      <td>342</td>\n",
              "    </tr>\n",
              "    <tr>\n",
              "      <th>coef_3</th>\n",
              "      <td>196</td>\n",
              "    </tr>\n",
              "    <tr>\n",
              "      <th>coef_4</th>\n",
              "      <td>276</td>\n",
              "    </tr>\n",
              "  </tbody>\n",
              "</table>\n",
              "</div><br><label><b>dtype:</b> int64</label>"
            ],
            "text/plain": [
              "ID                                692500\n",
              "PERIODO                                9\n",
              "ESTU_PRGM_ACADEMICO                  948\n",
              "ESTU_PRGM_DEPARTAMENTO                31\n",
              "ESTU_VALORMATRICULAUNIVERSIDAD         8\n",
              "ESTU_HORASSEMANATRABAJA                5\n",
              "FAMI_ESTRATOVIVIENDA                   7\n",
              "FAMI_TIENEINTERNET                     2\n",
              "FAMI_EDUCACIONPADRE                   12\n",
              "FAMI_TIENELAVADORA                     2\n",
              "FAMI_TIENEAUTOMOVIL                    2\n",
              "ESTU_PRIVADO_LIBERTAD                  2\n",
              "ESTU_PAGOMATRICULAPROPIO               2\n",
              "FAMI_TIENECOMPUTADOR                   2\n",
              "FAMI_TIENEINTERNET.1                   2\n",
              "FAMI_EDUCACIONMADRE                   12\n",
              "RENDIMIENTO_GLOBAL                     4\n",
              "coef_1                               375\n",
              "coef_2                               342\n",
              "coef_3                               196\n",
              "coef_4                               276\n",
              "dtype: int64"
            ]
          },
          "execution_count": 3,
          "metadata": {},
          "output_type": "execute_result"
        }
      ],
      "source": [
        "df = pd.read_csv('train.csv')\n",
        "df.nunique()"
      ]
    },
    {
      "cell_type": "markdown",
      "metadata": {
        "id": "f8Y-w1OUbWjJ"
      },
      "source": [
        "### Descripcción de los datos"
      ]
    },
    {
      "cell_type": "code",
      "execution_count": null,
      "metadata": {
        "colab": {
          "base_uri": "https://localhost:8080/",
          "height": 238
        },
        "id": "jI4VxbQQbZZi",
        "outputId": "58dc4d1e-b13f-442d-af50-9791c14ed44f"
      },
      "outputs": [
        {
          "data": {
            "application/vnd.google.colaboratory.intrinsic+json": {
              "summary": "{\n  \"name\": \"df\",\n  \"rows\": 6,\n  \"fields\": [\n    {\n      \"column\": \"count\",\n      \"properties\": {\n        \"dtype\": \"number\",\n        \"std\": 0.0,\n        \"min\": 692500.0,\n        \"max\": 692500.0,\n        \"num_unique_values\": 1,\n        \"samples\": [\n          692500.0\n        ],\n        \"semantic_type\": \"\",\n        \"description\": \"\"\n      }\n    },\n    {\n      \"column\": \"mean\",\n      \"properties\": {\n        \"dtype\": \"number\",\n        \"std\": 200435.7282950351,\n        \"min\": 0.25999581227436824,\n        \"max\": 494606.1305761733,\n        \"num_unique_values\": 6,\n        \"samples\": [\n          494606.1305761733\n        ],\n        \"semantic_type\": \"\",\n        \"description\": \"\"\n      }\n    },\n    {\n      \"column\": \"std\",\n      \"properties\": {\n        \"dtype\": \"number\",\n        \"std\": 116588.78547650912,\n        \"min\": 0.058862424457500034,\n        \"max\": 285585.2094553153,\n        \"num_unique_values\": 6,\n        \"samples\": [\n          285585.2094553153\n        ],\n        \"semantic_type\": \"\",\n        \"description\": \"\"\n      }\n    },\n    {\n      \"column\": \"min\",\n      \"properties\": {\n        \"dtype\": \"number\",\n        \"std\": 8239.593606483271,\n        \"min\": 0.0,\n        \"max\": 20183.0,\n        \"num_unique_values\": 3,\n        \"samples\": [\n          1.0\n        ],\n        \"semantic_type\": \"\",\n        \"description\": \"\"\n      }\n    },\n    {\n      \"column\": \"25%\",\n      \"properties\": {\n        \"dtype\": \"number\",\n        \"std\": 99648.86835103463,\n        \"min\": 0.203,\n        \"max\": 247324.75,\n        \"num_unique_values\": 6,\n        \"samples\": [\n          247324.75\n        ],\n        \"semantic_type\": \"\",\n        \"description\": \"\"\n      }\n    },\n    {\n      \"column\": \"50%\",\n      \"properties\": {\n        \"dtype\": \"number\",\n        \"std\": 200418.96530580329,\n        \"min\": 0.24,\n        \"max\": 494564.5,\n        \"num_unique_values\": 6,\n        \"samples\": [\n          494564.5\n        ],\n        \"semantic_type\": \"\",\n        \"description\": \"\"\n      }\n    },\n    {\n      \"column\": \"75%\",\n      \"properties\": {\n        \"dtype\": \"number\",\n        \"std\": 301290.16308542975,\n        \"min\": 0.293,\n        \"max\": 741782.5,\n        \"num_unique_values\": 6,\n        \"samples\": [\n          741782.5\n        ],\n        \"semantic_type\": \"\",\n        \"description\": \"\"\n      }\n    },\n    {\n      \"column\": \"max\",\n      \"properties\": {\n        \"dtype\": \"number\",\n        \"std\": 402305.03658586624,\n        \"min\": 0.32,\n        \"max\": 989286.0,\n        \"num_unique_values\": 6,\n        \"samples\": [\n          989286.0\n        ],\n        \"semantic_type\": \"\",\n        \"description\": \"\"\n      }\n    }\n  ]\n}",
              "type": "dataframe"
            },
            "text/html": [
              "\n",
              "  <div id=\"df-4381df7f-de65-4abb-a9cf-e78e64ff0ad8\" class=\"colab-df-container\">\n",
              "    <div>\n",
              "<style scoped>\n",
              "    .dataframe tbody tr th:only-of-type {\n",
              "        vertical-align: middle;\n",
              "    }\n",
              "\n",
              "    .dataframe tbody tr th {\n",
              "        vertical-align: top;\n",
              "    }\n",
              "\n",
              "    .dataframe thead th {\n",
              "        text-align: right;\n",
              "    }\n",
              "</style>\n",
              "<table border=\"1\" class=\"dataframe\">\n",
              "  <thead>\n",
              "    <tr style=\"text-align: right;\">\n",
              "      <th></th>\n",
              "      <th>count</th>\n",
              "      <th>mean</th>\n",
              "      <th>std</th>\n",
              "      <th>min</th>\n",
              "      <th>25%</th>\n",
              "      <th>50%</th>\n",
              "      <th>75%</th>\n",
              "      <th>max</th>\n",
              "    </tr>\n",
              "  </thead>\n",
              "  <tbody>\n",
              "    <tr>\n",
              "      <th>ID</th>\n",
              "      <td>692500.0</td>\n",
              "      <td>494606.130576</td>\n",
              "      <td>285585.209455</td>\n",
              "      <td>1.0</td>\n",
              "      <td>247324.750</td>\n",
              "      <td>494564.500</td>\n",
              "      <td>741782.500</td>\n",
              "      <td>989286.000</td>\n",
              "    </tr>\n",
              "    <tr>\n",
              "      <th>PERIODO</th>\n",
              "      <td>692500.0</td>\n",
              "      <td>20198.366679</td>\n",
              "      <td>10.535037</td>\n",
              "      <td>20183.0</td>\n",
              "      <td>20195.000</td>\n",
              "      <td>20195.000</td>\n",
              "      <td>20203.000</td>\n",
              "      <td>20213.000</td>\n",
              "    </tr>\n",
              "    <tr>\n",
              "      <th>coef_1</th>\n",
              "      <td>692500.0</td>\n",
              "      <td>0.268629</td>\n",
              "      <td>0.122130</td>\n",
              "      <td>0.0</td>\n",
              "      <td>0.203</td>\n",
              "      <td>0.240</td>\n",
              "      <td>0.314</td>\n",
              "      <td>0.657</td>\n",
              "    </tr>\n",
              "    <tr>\n",
              "      <th>coef_2</th>\n",
              "      <td>692500.0</td>\n",
              "      <td>0.259996</td>\n",
              "      <td>0.093480</td>\n",
              "      <td>0.0</td>\n",
              "      <td>0.212</td>\n",
              "      <td>0.271</td>\n",
              "      <td>0.309</td>\n",
              "      <td>0.487</td>\n",
              "    </tr>\n",
              "    <tr>\n",
              "      <th>coef_3</th>\n",
              "      <td>692500.0</td>\n",
              "      <td>0.262087</td>\n",
              "      <td>0.058862</td>\n",
              "      <td>0.0</td>\n",
              "      <td>0.254</td>\n",
              "      <td>0.276</td>\n",
              "      <td>0.293</td>\n",
              "      <td>0.320</td>\n",
              "    </tr>\n",
              "    <tr>\n",
              "      <th>coef_4</th>\n",
              "      <td>692500.0</td>\n",
              "      <td>0.262903</td>\n",
              "      <td>0.067944</td>\n",
              "      <td>0.0</td>\n",
              "      <td>0.255</td>\n",
              "      <td>0.285</td>\n",
              "      <td>0.303</td>\n",
              "      <td>0.332</td>\n",
              "    </tr>\n",
              "  </tbody>\n",
              "</table>\n",
              "</div>\n",
              "    <div class=\"colab-df-buttons\">\n",
              "\n",
              "  <div class=\"colab-df-container\">\n",
              "    <button class=\"colab-df-convert\" onclick=\"convertToInteractive('df-4381df7f-de65-4abb-a9cf-e78e64ff0ad8')\"\n",
              "            title=\"Convert this dataframe to an interactive table.\"\n",
              "            style=\"display:none;\">\n",
              "\n",
              "  <svg xmlns=\"http://www.w3.org/2000/svg\" height=\"24px\" viewBox=\"0 -960 960 960\">\n",
              "    <path d=\"M120-120v-720h720v720H120Zm60-500h600v-160H180v160Zm220 220h160v-160H400v160Zm0 220h160v-160H400v160ZM180-400h160v-160H180v160Zm440 0h160v-160H620v160ZM180-180h160v-160H180v160Zm440 0h160v-160H620v160Z\"/>\n",
              "  </svg>\n",
              "    </button>\n",
              "\n",
              "  <style>\n",
              "    .colab-df-container {\n",
              "      display:flex;\n",
              "      gap: 12px;\n",
              "    }\n",
              "\n",
              "    .colab-df-convert {\n",
              "      background-color: #E8F0FE;\n",
              "      border: none;\n",
              "      border-radius: 50%;\n",
              "      cursor: pointer;\n",
              "      display: none;\n",
              "      fill: #1967D2;\n",
              "      height: 32px;\n",
              "      padding: 0 0 0 0;\n",
              "      width: 32px;\n",
              "    }\n",
              "\n",
              "    .colab-df-convert:hover {\n",
              "      background-color: #E2EBFA;\n",
              "      box-shadow: 0px 1px 2px rgba(60, 64, 67, 0.3), 0px 1px 3px 1px rgba(60, 64, 67, 0.15);\n",
              "      fill: #174EA6;\n",
              "    }\n",
              "\n",
              "    .colab-df-buttons div {\n",
              "      margin-bottom: 4px;\n",
              "    }\n",
              "\n",
              "    [theme=dark] .colab-df-convert {\n",
              "      background-color: #3B4455;\n",
              "      fill: #D2E3FC;\n",
              "    }\n",
              "\n",
              "    [theme=dark] .colab-df-convert:hover {\n",
              "      background-color: #434B5C;\n",
              "      box-shadow: 0px 1px 3px 1px rgba(0, 0, 0, 0.15);\n",
              "      filter: drop-shadow(0px 1px 2px rgba(0, 0, 0, 0.3));\n",
              "      fill: #FFFFFF;\n",
              "    }\n",
              "  </style>\n",
              "\n",
              "    <script>\n",
              "      const buttonEl =\n",
              "        document.querySelector('#df-4381df7f-de65-4abb-a9cf-e78e64ff0ad8 button.colab-df-convert');\n",
              "      buttonEl.style.display =\n",
              "        google.colab.kernel.accessAllowed ? 'block' : 'none';\n",
              "\n",
              "      async function convertToInteractive(key) {\n",
              "        const element = document.querySelector('#df-4381df7f-de65-4abb-a9cf-e78e64ff0ad8');\n",
              "        const dataTable =\n",
              "          await google.colab.kernel.invokeFunction('convertToInteractive',\n",
              "                                                    [key], {});\n",
              "        if (!dataTable) return;\n",
              "\n",
              "        const docLinkHtml = 'Like what you see? Visit the ' +\n",
              "          '<a target=\"_blank\" href=https://colab.research.google.com/notebooks/data_table.ipynb>data table notebook</a>'\n",
              "          + ' to learn more about interactive tables.';\n",
              "        element.innerHTML = '';\n",
              "        dataTable['output_type'] = 'display_data';\n",
              "        await google.colab.output.renderOutput(dataTable, element);\n",
              "        const docLink = document.createElement('div');\n",
              "        docLink.innerHTML = docLinkHtml;\n",
              "        element.appendChild(docLink);\n",
              "      }\n",
              "    </script>\n",
              "  </div>\n",
              "\n",
              "\n",
              "    <div id=\"df-1bb042c4-3a44-4743-b928-568a723e8628\">\n",
              "      <button class=\"colab-df-quickchart\" onclick=\"quickchart('df-1bb042c4-3a44-4743-b928-568a723e8628')\"\n",
              "                title=\"Suggest charts\"\n",
              "                style=\"display:none;\">\n",
              "\n",
              "<svg xmlns=\"http://www.w3.org/2000/svg\" height=\"24px\"viewBox=\"0 0 24 24\"\n",
              "     width=\"24px\">\n",
              "    <g>\n",
              "        <path d=\"M19 3H5c-1.1 0-2 .9-2 2v14c0 1.1.9 2 2 2h14c1.1 0 2-.9 2-2V5c0-1.1-.9-2-2-2zM9 17H7v-7h2v7zm4 0h-2V7h2v10zm4 0h-2v-4h2v4z\"/>\n",
              "    </g>\n",
              "</svg>\n",
              "      </button>\n",
              "\n",
              "<style>\n",
              "  .colab-df-quickchart {\n",
              "      --bg-color: #E8F0FE;\n",
              "      --fill-color: #1967D2;\n",
              "      --hover-bg-color: #E2EBFA;\n",
              "      --hover-fill-color: #174EA6;\n",
              "      --disabled-fill-color: #AAA;\n",
              "      --disabled-bg-color: #DDD;\n",
              "  }\n",
              "\n",
              "  [theme=dark] .colab-df-quickchart {\n",
              "      --bg-color: #3B4455;\n",
              "      --fill-color: #D2E3FC;\n",
              "      --hover-bg-color: #434B5C;\n",
              "      --hover-fill-color: #FFFFFF;\n",
              "      --disabled-bg-color: #3B4455;\n",
              "      --disabled-fill-color: #666;\n",
              "  }\n",
              "\n",
              "  .colab-df-quickchart {\n",
              "    background-color: var(--bg-color);\n",
              "    border: none;\n",
              "    border-radius: 50%;\n",
              "    cursor: pointer;\n",
              "    display: none;\n",
              "    fill: var(--fill-color);\n",
              "    height: 32px;\n",
              "    padding: 0;\n",
              "    width: 32px;\n",
              "  }\n",
              "\n",
              "  .colab-df-quickchart:hover {\n",
              "    background-color: var(--hover-bg-color);\n",
              "    box-shadow: 0 1px 2px rgba(60, 64, 67, 0.3), 0 1px 3px 1px rgba(60, 64, 67, 0.15);\n",
              "    fill: var(--button-hover-fill-color);\n",
              "  }\n",
              "\n",
              "  .colab-df-quickchart-complete:disabled,\n",
              "  .colab-df-quickchart-complete:disabled:hover {\n",
              "    background-color: var(--disabled-bg-color);\n",
              "    fill: var(--disabled-fill-color);\n",
              "    box-shadow: none;\n",
              "  }\n",
              "\n",
              "  .colab-df-spinner {\n",
              "    border: 2px solid var(--fill-color);\n",
              "    border-color: transparent;\n",
              "    border-bottom-color: var(--fill-color);\n",
              "    animation:\n",
              "      spin 1s steps(1) infinite;\n",
              "  }\n",
              "\n",
              "  @keyframes spin {\n",
              "    0% {\n",
              "      border-color: transparent;\n",
              "      border-bottom-color: var(--fill-color);\n",
              "      border-left-color: var(--fill-color);\n",
              "    }\n",
              "    20% {\n",
              "      border-color: transparent;\n",
              "      border-left-color: var(--fill-color);\n",
              "      border-top-color: var(--fill-color);\n",
              "    }\n",
              "    30% {\n",
              "      border-color: transparent;\n",
              "      border-left-color: var(--fill-color);\n",
              "      border-top-color: var(--fill-color);\n",
              "      border-right-color: var(--fill-color);\n",
              "    }\n",
              "    40% {\n",
              "      border-color: transparent;\n",
              "      border-right-color: var(--fill-color);\n",
              "      border-top-color: var(--fill-color);\n",
              "    }\n",
              "    60% {\n",
              "      border-color: transparent;\n",
              "      border-right-color: var(--fill-color);\n",
              "    }\n",
              "    80% {\n",
              "      border-color: transparent;\n",
              "      border-right-color: var(--fill-color);\n",
              "      border-bottom-color: var(--fill-color);\n",
              "    }\n",
              "    90% {\n",
              "      border-color: transparent;\n",
              "      border-bottom-color: var(--fill-color);\n",
              "    }\n",
              "  }\n",
              "</style>\n",
              "\n",
              "      <script>\n",
              "        async function quickchart(key) {\n",
              "          const quickchartButtonEl =\n",
              "            document.querySelector('#' + key + ' button');\n",
              "          quickchartButtonEl.disabled = true;  // To prevent multiple clicks.\n",
              "          quickchartButtonEl.classList.add('colab-df-spinner');\n",
              "          try {\n",
              "            const charts = await google.colab.kernel.invokeFunction(\n",
              "                'suggestCharts', [key], {});\n",
              "          } catch (error) {\n",
              "            console.error('Error during call to suggestCharts:', error);\n",
              "          }\n",
              "          quickchartButtonEl.classList.remove('colab-df-spinner');\n",
              "          quickchartButtonEl.classList.add('colab-df-quickchart-complete');\n",
              "        }\n",
              "        (() => {\n",
              "          let quickchartButtonEl =\n",
              "            document.querySelector('#df-1bb042c4-3a44-4743-b928-568a723e8628 button');\n",
              "          quickchartButtonEl.style.display =\n",
              "            google.colab.kernel.accessAllowed ? 'block' : 'none';\n",
              "        })();\n",
              "      </script>\n",
              "    </div>\n",
              "\n",
              "    </div>\n",
              "  </div>\n"
            ],
            "text/plain": [
              "            count           mean            std      min         25%  \\\n",
              "ID       692500.0  494606.130576  285585.209455      1.0  247324.750   \n",
              "PERIODO  692500.0   20198.366679      10.535037  20183.0   20195.000   \n",
              "coef_1   692500.0       0.268629       0.122130      0.0       0.203   \n",
              "coef_2   692500.0       0.259996       0.093480      0.0       0.212   \n",
              "coef_3   692500.0       0.262087       0.058862      0.0       0.254   \n",
              "coef_4   692500.0       0.262903       0.067944      0.0       0.255   \n",
              "\n",
              "                50%         75%         max  \n",
              "ID       494564.500  741782.500  989286.000  \n",
              "PERIODO   20195.000   20203.000   20213.000  \n",
              "coef_1        0.240       0.314       0.657  \n",
              "coef_2        0.271       0.309       0.487  \n",
              "coef_3        0.276       0.293       0.320  \n",
              "coef_4        0.285       0.303       0.332  "
            ]
          },
          "execution_count": 5,
          "metadata": {},
          "output_type": "execute_result"
        }
      ],
      "source": [
        "df._get_numeric_data().describe().T"
      ]
    },
    {
      "cell_type": "markdown",
      "metadata": {
        "id": "J9aW38ZUehSN"
      },
      "source": [
        "## Lectura de datasets y asignación a variables"
      ]
    },
    {
      "cell_type": "code",
      "execution_count": 2,
      "metadata": {
        "colab": {
          "base_uri": "https://localhost:8080/"
        },
        "id": "FlzHUA6GelNY",
        "outputId": "01a8007e-63d7-4d2e-86a6-8b0650462262"
      },
      "outputs": [
        {
          "data": {
            "text/plain": [
              "((692500, 21), (296786, 20))"
            ]
          },
          "execution_count": 2,
          "metadata": {},
          "output_type": "execute_result"
        }
      ],
      "source": [
        "dtr = pd.read_csv(\"train.csv\")\n",
        "dts = pd.read_csv(\"test.csv\")\n",
        "lentr = len(dtr)\n",
        "dtr.shape, dts.shape"
      ]
    },
    {
      "cell_type": "markdown",
      "metadata": {
        "id": "YDLZyPrsXa4U"
      },
      "source": [
        "## Limpieza y reemplazo de valores NAN para la columna ESTU_HORASSEMANATRABAJA"
      ]
    },
    {
      "cell_type": "code",
      "execution_count": 3,
      "metadata": {
        "id": "br9ivhRkAJSy"
      },
      "outputs": [],
      "source": [
        "def organizar_horas_trabajadas_estudiante(data, columna):\n",
        "\n",
        "    # Valores posibles\n",
        "    mapeo = {\n",
        "        \"0\": 0,\n",
        "        \"menos de 10 horas\": 1,\n",
        "        \"entre 11 y 20 horas\": 2,\n",
        "        \"entre 21 y 30 horas\": 3,\n",
        "        \"más de 30 horas\": 4\n",
        "    }\n",
        "\n",
        "    # Rellenar NaNs con valores  válidos\n",
        "    modas = data.groupby('FAMI_ESTRATOVIVIENDA')[columna].transform(lambda x: x.mode().iloc[0])\n",
        "    data[columna] = data[columna].fillna(modas)\n",
        "\n",
        "    # Pasar todo a minúsculas y quitar espacios extra\n",
        "    data[columna] = data[columna].astype(str).str.strip().str.lower()\n",
        "\n",
        "    # Aplicar mapeo numérico\n",
        "    data[columna] = data[columna].map(mapeo)\n",
        "\n",
        "    return data\n"
      ]
    },
    {
      "cell_type": "markdown",
      "metadata": {
        "id": "GFa43f_wbtD_"
      },
      "source": [
        "## Limpieza y reemplzado de valores NAN para la columna ESTU_HORASSEMANATRABAJA utilizando dummies"
      ]
    },
    {
      "cell_type": "code",
      "execution_count": 4,
      "metadata": {
        "id": "t37RG7KdcNDk"
      },
      "outputs": [],
      "source": [
        "def organizar_horas_trabajadas_estudiante_columna(data, columna):\n",
        "\n",
        "    # Valores posibles ordenados\n",
        "    mapeo = {\n",
        "        \"0\": 0,\n",
        "        \"menos de 10 horas\": 1,\n",
        "        \"entre 11 y 20 horas\": 2,\n",
        "        \"entre 21 y 30 horas\": 3,\n",
        "        \"más de 30 horas\": 4\n",
        "    }\n",
        "\n",
        "    # Rellenar NaNs con valores cíclicos válidos\n",
        "    modas = data.groupby('FAMI_ESTRATOVIVIENDA')[columna].transform(lambda x: x.mode().iloc[0])\n",
        "    data[columna] = data[columna].fillna(modas)\n",
        "\n",
        "    dummies = pd.get_dummies(data[columna], prefix=\"Trabaja\").astype(int)\n",
        "    data = data.drop(columns=[columna]).join(dummies)\n",
        "\n",
        "    return data"
      ]
    },
    {
      "cell_type": "markdown",
      "metadata": {
        "id": "Ff1Fw2Lub3N5"
      },
      "source": [
        "## Limpieza y reemplazo de valores NAN para la columna ESTU_PRGM_ACADEMICO"
      ]
    },
    {
      "cell_type": "code",
      "execution_count": 14,
      "metadata": {
        "id": "Q4AUEGvKAmIR"
      },
      "outputs": [],
      "source": [
        "def organizar_programa_estudiante(data, columna):\n",
        "    # Diccionario con categorías y palabras clave asociadas\n",
        "    categorias = {\n",
        "        \"arquitectura\": [\"arquite\"],\n",
        "        \"matematica\": [\"matema\", \"estad\"],\n",
        "        \"ingenieria\": [\"ingenier\"],\n",
        "        \"salud\": [\"psicolog\", \"medicina\", \"enfermer\", \"fisioterap\", \"odontolog\", \"nutric\", \"bacteriolog\", \"terapia\", \"farmac\", \"quirurg\", \"salud\"],\n",
        "        \"biologia\": [\"biolog\", \"microbiol\", \"bioing\", \"bioqui\"],\n",
        "        \"docencia\": [\"licenc\", \"pedagog\", \"educac\", \"docen\"],\n",
        "        \"comunicacion\": [\"comunic\", \"periodismo\", \"cine\", \"audiovisual\", \"publicidad\", \"medios\"],\n",
        "        \"social\": [\"sociolog\", \"trabajo social\", \"antropolog\", \"crimin\", \"histori\", \"historia\", \"filosof\", \"teolog\"],\n",
        "        \"derecho\": [\"juris\", \"derecho\"],\n",
        "        \"politica\": [\"gobier\", \"politic\", \"relaciones internacionales\"],\n",
        "        \"administracion\": [\"admin\", \"gestion\", \"logist\", \"negocios\", \"gerenc\", \"direccion\"],\n",
        "        \"economia\": [\"econom\", \"finanzas\", \"comercio\", \"mercadeo\", \"marketing\"],\n",
        "        \"arte\": [\"arte\", \"musica\", \"teatro\", \"dise\", \"diseñ\", \"danza\", \"fotogra\", \"moda\", \"literat\", \"escénic\", \"escenari\"],\n",
        "        \"deporte\": [\"deport\", \"recreac\", \"actividad fisica\", \"cultura fisica\", \"entrenamiento\"],\n",
        "        \"tecnologia\": [\"informatic\", \"sistemas\", \"multimedia\", \"software\", \"digital\", \"datos\"],\n",
        "        \"industria\": [\"industrial\", \"productiv\", \"produccion\", \"mecanic\", \"electron\", \"electromec\", \"automatiz\", \"topograf\", \"geolog\", \"minas\", \"quimic\"],\n",
        "        \"agro\": [\"agronom\", \"agroind\", \"zootec\", \"pecuar\", \"acui\", \"agropec\", \"agricol\", \"forest\"],\n",
        "        \"idiomas\": [\"ingles\", \"idioma\", \"lengua\", \"lenguas\", \"frances\", \"traducc\", \"biling\"],\n",
        "        \"turismo\": [\"turismo\", \"gastronom\", \"hotel\", \"cocina\"],\n",
        "        \"otros\": []\n",
        "    }\n",
        "\n",
        "    # Normaliza los textos\n",
        "    data[columna] = data[columna].astype(str).str.lower().str.strip()\n",
        "\n",
        "    # Función interna para aplicar a cada valor\n",
        "    def clasificar(programa):\n",
        "        for categoria, palabras_clave in categorias.items():\n",
        "            if any(palabra in programa for palabra in palabras_clave):\n",
        "                return categoria\n",
        "        return \"otras\"\n",
        "\n",
        "    # Aplicar categorización\n",
        "    data[columna] = data[columna].apply(clasificar)\n",
        "\n",
        "    # dummies = pd.get_dummies(data[columna], prefix=\"Programa\").astype(int)\n",
        "    # data = data.drop(columns=[columna]).join(dummies)\n",
        "\n",
        "    return data  # ✅ ESTA LÍNEA ES OBLIGATORIA\n",
        "\n"
      ]
    },
    {
      "cell_type": "markdown",
      "metadata": {
        "id": "avk5fJkmcd8U"
      },
      "source": [
        "##  Limpieza y reemplazo de valores NAN para la columna FAMI_ESTRATOVIVIENDA"
      ]
    },
    {
      "cell_type": "code",
      "execution_count": 6,
      "metadata": {
        "id": "OO9xweMwCUGT"
      },
      "outputs": [],
      "source": [
        "def organizar_estratos(data, columna):\n",
        "  data[columna] = (\n",
        "      data[columna]\n",
        "      .str.lower()\n",
        "      .str.replace(\"sin estrato\", \"0\", regex=False)\n",
        "      .str.replace(\"estrato \", \"\", regex=False))\n",
        "\n",
        "  moda = data[columna].mode().values[0]\n",
        "\n",
        "  data[columna] = data[columna].fillna(moda)\n",
        "\n",
        "\n",
        "  data[columna] = (\n",
        "    data[columna]\n",
        "    .astype(int))\n",
        "\n",
        "  return data"
      ]
    },
    {
      "cell_type": "markdown",
      "metadata": {
        "id": "Z32oxm8pdAz8"
      },
      "source": [
        "## Limpieza y reemplzado de valores NAN para las columnas que tienen solo dos posibles valores"
      ]
    },
    {
      "cell_type": "code",
      "execution_count": 7,
      "metadata": {},
      "outputs": [],
      "source": [
        "def organizar_columna_binaria(data, columna, valores):\n",
        "    modas = data.groupby('FAMI_ESTRATOVIVIENDA')[columna].transform(lambda x: x.mode().iloc[0])\n",
        "    data[columna] = data[columna].fillna(modas)\n",
        "\n",
        "    data.loc[data[columna] == valores[0], columna] = 1\n",
        "    data.loc[data[columna] == valores[1], columna] = 0\n",
        "\n",
        "    return data\n"
      ]
    },
    {
      "cell_type": "markdown",
      "metadata": {
        "id": "f1cezFnddn-R"
      },
      "source": [
        "## Limpieza y reemplazo de valores NAN para la columna ESTU_VALORMATRICULAUNIVERSIDAD"
      ]
    },
    {
      "cell_type": "code",
      "execution_count": 38,
      "metadata": {
        "id": "VKqwya3dbZ_G"
      },
      "outputs": [],
      "source": [
        "def organizar_valor_matricula_en_una_columna(data, columna):\n",
        "    mapeo = {\n",
        "       'Más de 7 millones':7,\n",
        "       'Entre 5.5 millones y menos de 7 millones':6,\n",
        "       'Entre 4 millones y menos de 5.5 millones':5,\n",
        "       'Entre 2.5 millones y menos de 4 millones':4,\n",
        "       'Entre 1 millón y menos de 2.5 millones':3,\n",
        "       'Entre 500 mil y menos de 1 millón':2,\n",
        "       'Menos de 500 mil': 1,\n",
        "       'No pagó matrícula':0\n",
        "      }\n",
        "\n",
        "    # Rellenar NaNs con valores cíclicos válidos\n",
        "    modas = data.groupby('FAMI_ESTRATOVIVIENDA')[columna].transform(lambda x: x.mode().iloc[0])\n",
        "    data[columna] = data[columna].fillna(modas)\n",
        "\n",
        "    # Aplicar mapeo numérico\n",
        "    data[columna] = data[columna].map(mapeo)\n",
        "\n",
        "    return data\n"
      ]
    },
    {
      "cell_type": "markdown",
      "metadata": {
        "id": "lXBijsO2eKuz"
      },
      "source": [
        "## Limpieza y reemplazo de valores NAN para la columna FAMI_EDUCACIONPADRE"
      ]
    },
    {
      "cell_type": "code",
      "execution_count": 37,
      "metadata": {
        "id": "CxrewjtKGaQC"
      },
      "outputs": [],
      "source": [
        "def organizar_educacion_padres(data, columna):\n",
        "  # Lista de estratos (como strings, si así están en el DataFrame)\n",
        "\n",
        "  mapeo = {\n",
        "    'No sabe':0,\n",
        "    'Ninguno':1,\n",
        "    'No Aplica':2,\n",
        "    'Primaria incompleta':3,\n",
        "    'Primaria completa':4,\n",
        "    'Secundaria (Bachillerato) incompleta':5,\n",
        "    'Secundaria (Bachillerato) completa':6,\n",
        "    'Técnica o tecnológica incompleta':7,\n",
        "    'Técnica o tecnológica completa':8,\n",
        "    'Educación profesional incompleta':9,\n",
        "    'Educación profesional completa':10,\n",
        "    'Postgrado':11,\n",
        "  }\n",
        "\n",
        "  # Asignar uno por uno, reiniciando al llegar al final de la lista de estratos\n",
        "  modas = data.groupby('FAMI_ESTRATOVIVIENDA')[columna].transform(lambda x: x.mode().iloc[0])\n",
        "  data[columna] = data[columna].fillna(modas)\n",
        "\n",
        "  # if columna == \"FAMI_EDUCACIONMADRE\":\n",
        "  #   dummies = pd.get_dummies(data[columna], prefix=\"Edu-madre\").astype(int)\n",
        "  #   data = data.drop(columns=[columna]).join(dummies)\n",
        "\n",
        "  #   return data\n",
        "\n",
        "  # dummies = pd.get_dummies(data[columna], prefix=\"Edu-padre\").astype(int)\n",
        "  # data = data.drop(columns=[columna]).join(dummies)\n",
        "  data[columna] = data[columna].map(mapeo)\n",
        "\n",
        "  return data\n"
      ]
    },
    {
      "cell_type": "markdown",
      "metadata": {},
      "source": [
        "## Limpieza y reemplazo de valores NAN para la columna PERIODO"
      ]
    },
    {
      "cell_type": "code",
      "execution_count": 10,
      "metadata": {},
      "outputs": [],
      "source": [
        "def organizar_periodos(data, columna):\n",
        "    mapeo = {\n",
        "        20183:0,\n",
        "        20184:0, \n",
        "        20194:1,\n",
        "        20195:1,\n",
        "        20196:1,\n",
        "        20202:2,\n",
        "        20203:2,\n",
        "        20212:3,\n",
        "        20213:3\n",
        "    }\n",
        "\n",
        "    data[columna] = data[columna].map(mapeo)\n",
        "\n",
        "    return data"
      ]
    },
    {
      "cell_type": "markdown",
      "metadata": {
        "id": "oEPTj1mQeQe_"
      },
      "source": [
        "## Limpieza y reemplazo de valores NAN para la columna FAMI_EDUCACIONMADRE"
      ]
    },
    {
      "cell_type": "markdown",
      "metadata": {
        "id": "10el9fgHeshM"
      },
      "source": [
        "## Análisis de la correclación entre las columnas de coeficientes"
      ]
    },
    {
      "cell_type": "code",
      "execution_count": null,
      "metadata": {
        "colab": {
          "base_uri": "https://localhost:8080/"
        },
        "id": "DnniYQ2YexTJ",
        "outputId": "11275088-4185-424c-87be-d06b58d73856"
      },
      "outputs": [
        {
          "name": "stdout",
          "output_type": "stream",
          "text": [
            "Matriz de correlación entre las columnas 'coef':\n",
            "          coef_1    coef_2    coef_3    coef_4\n",
            "coef_1  1.000000 -0.420428  0.401190 -0.179439\n",
            "coef_2 -0.420428  1.000000  0.356097  0.821443\n",
            "coef_3  0.401190  0.356097  1.000000  0.726692\n",
            "coef_4 -0.179439  0.821443  0.726692  1.000000\n"
          ]
        }
      ],
      "source": [
        "coef_cols = ['coef_1', 'coef_2', 'coef_3', 'coef_4']\n",
        "dtr_coef = dtr[coef_cols]\n",
        "\n",
        "correlation_matrix = dtr_coef.corr()\n",
        "\n",
        "print(\"Matriz de correlación entre las columnas 'coef':\")\n",
        "print(correlation_matrix)"
      ]
    },
    {
      "cell_type": "markdown",
      "metadata": {
        "id": "ZHnAI0TBebJ8"
      },
      "source": [
        "## Función donde se eliminan columnas innecesarias y se aplican las funciones de limpieza"
      ]
    },
    {
      "cell_type": "code",
      "execution_count": 46,
      "metadata": {},
      "outputs": [],
      "source": [
        "def columna_comodidades(data, columnas=[\"FAMI_TIENELAVADORA\", \"FAMI_TIENEAUTOMOVIL\", \"FAMI_TIENEINTERNET\", \"FAMI_TIENECOMPUTADOR\",\"ESTU_PAGOMATRICULAPROPIO\"]):\n",
        "    data['Comodidades'] = data[columnas].sum(axis=1)\n",
        "    return data"
      ]
    },
    {
      "cell_type": "code",
      "execution_count": 50,
      "metadata": {
        "id": "h56bv86yIoEk"
      },
      "outputs": [],
      "source": [
        "def clean_data(data):\n",
        "  columnas_inecesarias = [\n",
        "      \"ID\",\n",
        "      # \"FAMI_TIENELAVADORA\",\n",
        "      \"coef_4\",\n",
        "      # \"coef_1\",\n",
        "      #\"PERIODO\",\n",
        "      # \"FAMI_TIENEAUTOMOVIL\",\n",
        "      \"FAMI_TIENEINTERNET.1\",\n",
        "      \"ESTU_PRIVADO_LIBERTAD\",\n",
        "      #\"ESTU_HORASSEMANATRABAJA\",\n",
        "      # \"FAMI_EDUCACIONPADRE\",\n",
        "      # \"FAMI_EDUCACIONMADRE\",\n",
        "      #\"ESTU_PRGM_ACADEMICO\",\n",
        "      #\"ESTU_PRGM_DEPARTAMENTO\",\n",
        "      #\"FAMI_TIENEINTERNET\",\n",
        "      #\"FAMI_TIENECOMPUTADOR\",\n",
        "      #\"ESTU_PAGOMATRICULAPROPIO\",\n",
        "      #\"ESTU_VALORMATRICULAUNIVERSIDAD\"\n",
        "  ]\n",
        "  data=data.drop(columns=columnas_inecesarias)\n",
        "\n",
        "  data=organizar_estratos(data, \"FAMI_ESTRATOVIVIENDA\")\n",
        "  data=organizar_periodos(data, \"PERIODO\")\n",
        "  data=organizar_horas_trabajadas_estudiante(data, \"ESTU_HORASSEMANATRABAJA\")\n",
        "  # data=organizar_programa_estudiante(data, \"ESTU_PRGM_ACADEMICO\")\n",
        "  data=organizar_columna_binaria(data, \"FAMI_TIENEINTERNET\", [\"Si\", \"No\"])\n",
        "  data=organizar_columna_binaria(data, \"FAMI_TIENECOMPUTADOR\", [\"Si\", \"No\"])\n",
        "  data=organizar_columna_binaria(data, \"FAMI_TIENELAVADORA\", [\"Si\", \"No\"])\n",
        "  data=organizar_columna_binaria(data, \"FAMI_TIENEAUTOMOVIL\", [\"Si\", \"No\"])\n",
        "  data=organizar_columna_binaria(data, \"ESTU_PAGOMATRICULAPROPIO\", [\"Si\", \"No\"])\n",
        "\n",
        "  data=organizar_valor_matricula_en_una_columna(data, \"ESTU_VALORMATRICULAUNIVERSIDAD\")\n",
        "  data=organizar_educacion_padres(data, \"FAMI_EDUCACIONPADRE\")\n",
        "  data=organizar_educacion_padres(data, \"FAMI_EDUCACIONMADRE\")\n",
        "  data=columna_comodidades(data)\n",
        "  data=data.drop(columns=[\"FAMI_TIENELAVADORA\", \"FAMI_TIENEAUTOMOVIL\", \"FAMI_TIENEINTERNET\", \"FAMI_TIENECOMPUTADOR\",\"ESTU_PAGOMATRICULAPROPIO\"])\n",
        "  return data"
      ]
    },
    {
      "cell_type": "code",
      "execution_count": 51,
      "metadata": {
        "colab": {
          "base_uri": "https://localhost:8080/"
        },
        "id": "TFiRofO9MMrO",
        "outputId": "e539e4d4-da4e-4c9b-c937-a0ea918034bd"
      },
      "outputs": [
        {
          "name": "stdout",
          "output_type": "stream",
          "text": [
            "(692500, 12) (692500,)\n",
            "(296786, 12)\n"
          ]
        }
      ],
      "source": [
        "source_cols = [i for i in dtr.columns if i!=\"RENDIMIENTO_GLOBAL\"]\n",
        "all_data = pd.concat((dtr[source_cols], dts[source_cols]))\n",
        "all_data.index = range(len(all_data))\n",
        "all_data = clean_data(all_data)\n",
        "\n",
        "Xtr, ytr = all_data.iloc[:lentr].values, dtr[\"RENDIMIENTO_GLOBAL\"].values\n",
        "Xts      = all_data.iloc[lentr:].values\n",
        "print (Xtr.shape, ytr.shape)\n",
        "print (Xts.shape)"
      ]
    },
    {
      "cell_type": "code",
      "execution_count": 52,
      "metadata": {
        "colab": {
          "base_uri": "https://localhost:8080/",
          "height": 226
        },
        "id": "tmS02bhuOZET",
        "outputId": "be77e9a8-ed5d-4ff4-bb57-2572973a794c"
      },
      "outputs": [
        {
          "data": {
            "text/html": [
              "<div>\n",
              "<style scoped>\n",
              "    .dataframe tbody tr th:only-of-type {\n",
              "        vertical-align: middle;\n",
              "    }\n",
              "\n",
              "    .dataframe tbody tr th {\n",
              "        vertical-align: top;\n",
              "    }\n",
              "\n",
              "    .dataframe thead th {\n",
              "        text-align: right;\n",
              "    }\n",
              "</style>\n",
              "<table border=\"1\" class=\"dataframe\">\n",
              "  <thead>\n",
              "    <tr style=\"text-align: right;\">\n",
              "      <th></th>\n",
              "      <th>PERIODO</th>\n",
              "      <th>ESTU_PRGM_ACADEMICO</th>\n",
              "      <th>ESTU_PRGM_DEPARTAMENTO</th>\n",
              "      <th>ESTU_VALORMATRICULAUNIVERSIDAD</th>\n",
              "      <th>ESTU_HORASSEMANATRABAJA</th>\n",
              "      <th>FAMI_ESTRATOVIVIENDA</th>\n",
              "      <th>FAMI_EDUCACIONPADRE</th>\n",
              "      <th>FAMI_EDUCACIONMADRE</th>\n",
              "      <th>coef_1</th>\n",
              "      <th>coef_2</th>\n",
              "      <th>coef_3</th>\n",
              "      <th>Comodidades</th>\n",
              "    </tr>\n",
              "  </thead>\n",
              "  <tbody>\n",
              "    <tr>\n",
              "      <th>0</th>\n",
              "      <td>3</td>\n",
              "      <td>ENFERMERIA</td>\n",
              "      <td>BOGOTÁ</td>\n",
              "      <td>6</td>\n",
              "      <td>1</td>\n",
              "      <td>3</td>\n",
              "      <td>7</td>\n",
              "      <td>11</td>\n",
              "      <td>0.322</td>\n",
              "      <td>0.208</td>\n",
              "      <td>0.310</td>\n",
              "      <td>4</td>\n",
              "    </tr>\n",
              "    <tr>\n",
              "      <th>1</th>\n",
              "      <td>3</td>\n",
              "      <td>DERECHO</td>\n",
              "      <td>ATLANTICO</td>\n",
              "      <td>4</td>\n",
              "      <td>0</td>\n",
              "      <td>3</td>\n",
              "      <td>8</td>\n",
              "      <td>7</td>\n",
              "      <td>0.311</td>\n",
              "      <td>0.215</td>\n",
              "      <td>0.292</td>\n",
              "      <td>2</td>\n",
              "    </tr>\n",
              "    <tr>\n",
              "      <th>2</th>\n",
              "      <td>2</td>\n",
              "      <td>MERCADEO Y PUBLICIDAD</td>\n",
              "      <td>BOGOTÁ</td>\n",
              "      <td>4</td>\n",
              "      <td>4</td>\n",
              "      <td>3</td>\n",
              "      <td>6</td>\n",
              "      <td>6</td>\n",
              "      <td>0.297</td>\n",
              "      <td>0.214</td>\n",
              "      <td>0.305</td>\n",
              "      <td>2</td>\n",
              "    </tr>\n",
              "    <tr>\n",
              "      <th>3</th>\n",
              "      <td>1</td>\n",
              "      <td>ADMINISTRACION DE EMPRESAS</td>\n",
              "      <td>SANTANDER</td>\n",
              "      <td>5</td>\n",
              "      <td>0</td>\n",
              "      <td>4</td>\n",
              "      <td>0</td>\n",
              "      <td>6</td>\n",
              "      <td>0.485</td>\n",
              "      <td>0.172</td>\n",
              "      <td>0.252</td>\n",
              "      <td>3</td>\n",
              "    </tr>\n",
              "    <tr>\n",
              "      <th>4</th>\n",
              "      <td>3</td>\n",
              "      <td>PSICOLOGIA</td>\n",
              "      <td>ANTIOQUIA</td>\n",
              "      <td>4</td>\n",
              "      <td>3</td>\n",
              "      <td>3</td>\n",
              "      <td>4</td>\n",
              "      <td>4</td>\n",
              "      <td>0.316</td>\n",
              "      <td>0.232</td>\n",
              "      <td>0.285</td>\n",
              "      <td>4</td>\n",
              "    </tr>\n",
              "  </tbody>\n",
              "</table>\n",
              "</div>"
            ],
            "text/plain": [
              "   PERIODO         ESTU_PRGM_ACADEMICO ESTU_PRGM_DEPARTAMENTO  \\\n",
              "0        3                  ENFERMERIA                 BOGOTÁ   \n",
              "1        3                     DERECHO              ATLANTICO   \n",
              "2        2       MERCADEO Y PUBLICIDAD                 BOGOTÁ   \n",
              "3        1  ADMINISTRACION DE EMPRESAS              SANTANDER   \n",
              "4        3                  PSICOLOGIA              ANTIOQUIA   \n",
              "\n",
              "   ESTU_VALORMATRICULAUNIVERSIDAD  ESTU_HORASSEMANATRABAJA  \\\n",
              "0                               6                        1   \n",
              "1                               4                        0   \n",
              "2                               4                        4   \n",
              "3                               5                        0   \n",
              "4                               4                        3   \n",
              "\n",
              "   FAMI_ESTRATOVIVIENDA  FAMI_EDUCACIONPADRE  FAMI_EDUCACIONMADRE  coef_1  \\\n",
              "0                     3                    7                   11   0.322   \n",
              "1                     3                    8                    7   0.311   \n",
              "2                     3                    6                    6   0.297   \n",
              "3                     4                    0                    6   0.485   \n",
              "4                     3                    4                    4   0.316   \n",
              "\n",
              "   coef_2  coef_3 Comodidades  \n",
              "0   0.208   0.310           4  \n",
              "1   0.215   0.292           2  \n",
              "2   0.214   0.305           2  \n",
              "3   0.172   0.252           3  \n",
              "4   0.232   0.285           4  "
            ]
          },
          "execution_count": 52,
          "metadata": {},
          "output_type": "execute_result"
        }
      ],
      "source": [
        "all_data.head()"
      ]
    },
    {
      "cell_type": "markdown",
      "metadata": {},
      "source": [
        "## Catboost Classifier"
      ]
    },
    {
      "cell_type": "code",
      "execution_count": null,
      "metadata": {},
      "outputs": [
        {
          "name": "stdout",
          "output_type": "stream",
          "text": [
            "Collecting catboost\n",
            "  Downloading catboost-1.2.8-cp311-cp311-manylinux2014_x86_64.whl.metadata (1.2 kB)\n",
            "Requirement already satisfied: graphviz in /usr/local/lib/python3.11/dist-packages (from catboost) (0.21)\n",
            "Requirement already satisfied: matplotlib in /usr/local/lib/python3.11/dist-packages (from catboost) (3.10.0)\n",
            "Requirement already satisfied: numpy<3.0,>=1.16.0 in /usr/local/lib/python3.11/dist-packages (from catboost) (2.0.2)\n",
            "Requirement already satisfied: pandas>=0.24 in /usr/local/lib/python3.11/dist-packages (from catboost) (2.2.2)\n",
            "Requirement already satisfied: scipy in /usr/local/lib/python3.11/dist-packages (from catboost) (1.15.3)\n",
            "Requirement already satisfied: plotly in /usr/local/lib/python3.11/dist-packages (from catboost) (5.24.1)\n",
            "Requirement already satisfied: six in /usr/local/lib/python3.11/dist-packages (from catboost) (1.17.0)\n",
            "Requirement already satisfied: python-dateutil>=2.8.2 in /usr/local/lib/python3.11/dist-packages (from pandas>=0.24->catboost) (2.9.0.post0)\n",
            "Requirement already satisfied: pytz>=2020.1 in /usr/local/lib/python3.11/dist-packages (from pandas>=0.24->catboost) (2025.2)\n",
            "Requirement already satisfied: tzdata>=2022.7 in /usr/local/lib/python3.11/dist-packages (from pandas>=0.24->catboost) (2025.2)\n",
            "Requirement already satisfied: contourpy>=1.0.1 in /usr/local/lib/python3.11/dist-packages (from matplotlib->catboost) (1.3.2)\n",
            "Requirement already satisfied: cycler>=0.10 in /usr/local/lib/python3.11/dist-packages (from matplotlib->catboost) (0.12.1)\n",
            "Requirement already satisfied: fonttools>=4.22.0 in /usr/local/lib/python3.11/dist-packages (from matplotlib->catboost) (4.58.4)\n",
            "Requirement already satisfied: kiwisolver>=1.3.1 in /usr/local/lib/python3.11/dist-packages (from matplotlib->catboost) (1.4.8)\n",
            "Requirement already satisfied: packaging>=20.0 in /usr/local/lib/python3.11/dist-packages (from matplotlib->catboost) (24.2)\n",
            "Requirement already satisfied: pillow>=8 in /usr/local/lib/python3.11/dist-packages (from matplotlib->catboost) (11.2.1)\n",
            "Requirement already satisfied: pyparsing>=2.3.1 in /usr/local/lib/python3.11/dist-packages (from matplotlib->catboost) (3.2.3)\n",
            "Requirement already satisfied: tenacity>=6.2.0 in /usr/local/lib/python3.11/dist-packages (from plotly->catboost) (9.1.2)\n",
            "Downloading catboost-1.2.8-cp311-cp311-manylinux2014_x86_64.whl (99.2 MB)\n",
            "\u001b[2K   \u001b[90m━━━━━━━━━━━━━━━━━━━━━━━━━━━━━━━━━━━━━━━━\u001b[0m \u001b[32m99.2/99.2 MB\u001b[0m \u001b[31m8.7 MB/s\u001b[0m eta \u001b[36m0:00:00\u001b[0m\n",
            "\u001b[?25hInstalling collected packages: catboost\n",
            "Successfully installed catboost-1.2.8\n"
          ]
        }
      ],
      "source": [
        "!pip install catboost"
      ]
    },
    {
      "cell_type": "code",
      "execution_count": 72,
      "metadata": {},
      "outputs": [
        {
          "name": "stdout",
          "output_type": "stream",
          "text": [
            "0:\tlearn: 1.3713925\ttest: 1.3712588\tbest: 1.3712588 (0)\ttotal: 3.21s\tremaining: 53m 29s\n",
            "100:\tlearn: 1.1991716\ttest: 1.1953419\tbest: 1.1953419 (100)\ttotal: 4m 58s\tremaining: 44m 19s\n",
            "200:\tlearn: 1.1908200\ttest: 1.1877186\tbest: 1.1877186 (200)\ttotal: 10m 10s\tremaining: 40m 27s\n",
            "300:\tlearn: 1.1867136\ttest: 1.1847287\tbest: 1.1847287 (300)\ttotal: 15m 24s\tremaining: 35m 47s\n",
            "400:\tlearn: 1.1845959\ttest: 1.1835407\tbest: 1.1835407 (400)\ttotal: 20m 42s\tremaining: 30m 56s\n",
            "500:\tlearn: 1.1831299\ttest: 1.1827631\tbest: 1.1827631 (500)\ttotal: 25m 58s\tremaining: 25m 52s\n",
            "600:\tlearn: 1.1818905\ttest: 1.1822220\tbest: 1.1822220 (600)\ttotal: 31m 14s\tremaining: 20m 44s\n",
            "700:\tlearn: 1.1807587\ttest: 1.1818683\tbest: 1.1818683 (700)\ttotal: 36m 31s\tremaining: 15m 34s\n",
            "800:\tlearn: 1.1796823\ttest: 1.1815915\tbest: 1.1815886 (798)\ttotal: 41m 48s\tremaining: 10m 23s\n",
            "900:\tlearn: 1.1786935\ttest: 1.1813567\tbest: 1.1813567 (900)\ttotal: 47m 5s\tremaining: 5m 10s\n",
            "999:\tlearn: 1.1777125\ttest: 1.1811117\tbest: 1.1811108 (998)\ttotal: 52m 13s\tremaining: 0us\n",
            "\n",
            "bestTest = 1.181110818\n",
            "bestIteration = 998\n",
            "\n",
            "Shrink model to first 999 iterations.\n"
          ]
        },
        {
          "data": {
            "text/plain": [
              "(np.float64(0.45625270758122743), np.float64(0.4457545126353791))"
            ]
          },
          "execution_count": 72,
          "metadata": {},
          "output_type": "execute_result"
        }
      ],
      "source": [
        "from catboost import CatBoostClassifier\n",
        "from sklearn.model_selection import train_test_split\n",
        "\n",
        "Xtrain, Xtest, ytrain, ytest = train_test_split(Xtr,ytr, test_size=0.2)\n",
        "\n",
        "model = CatBoostClassifier(\n",
        "            iterations=1000,\n",
        "            learning_rate=0.06,\n",
        "            depth=6,\n",
        "            l2_leaf_reg=10,\n",
        "            verbose=100,\n",
        "            cat_features=[0, 1, 2, 3, 4, 5, 6, 7, 11]\n",
        "        )\n",
        "\n",
        "model.fit(Xtrain, ytrain, eval_set=(Xtest, ytest), use_best_model=True)\n",
        "\n",
        "model.score(Xtrain, ytrain), model.score(Xtest, ytest)"
      ]
    },
    {
      "cell_type": "code",
      "execution_count": 42,
      "metadata": {},
      "outputs": [],
      "source": [
        "pd.DataFrame({'ID': dts['ID'].values, 'RENDIMIENTO_GLOBAL': model.predict(Xts).reshape(296786,)}).to_csv('predict.csv', index=False)"
      ]
    }
  ],
  "metadata": {
    "colab": {
      "provenance": []
    },
    "kernelspec": {
      "display_name": "venv",
      "language": "python",
      "name": "python3"
    },
    "language_info": {
      "codemirror_mode": {
        "name": "ipython",
        "version": 3
      },
      "file_extension": ".py",
      "mimetype": "text/x-python",
      "name": "python",
      "nbconvert_exporter": "python",
      "pygments_lexer": "ipython3",
      "version": "3.13.4"
    }
  },
  "nbformat": 4,
  "nbformat_minor": 0
}
